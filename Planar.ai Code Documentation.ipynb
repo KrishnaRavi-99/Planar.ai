{
 "cells": [
  {
   "cell_type": "markdown",
   "metadata": {},
   "source": [
    "# Planar.ai Code"
   ]
  },
  {
   "cell_type": "code",
   "execution_count": 45,
   "metadata": {},
   "outputs": [],
   "source": [
    "import numpy as np\n",
    "import pandas as pd\n",
    "import matplotlib.pyplot as plt\n",
    "import sklearn\n",
    "from sklearn.tree import DecisionTreeClassifier\n",
    "from sklearn.model_selection import train_test_split\n",
    "from sklearn.metrics import accuracy_score\n",
    "from sklearn.base import clone\n",
    "%matplotlib inline"
   ]
  },
  {
   "cell_type": "markdown",
   "metadata": {},
   "source": [
    "## Survey Feedback System\n",
    "Goal : Determine the likelyhood of an employee coming to work in-person on a certain day of the week."
   ]
  },
  {
   "cell_type": "markdown",
   "metadata": {},
   "source": [
    "Survey Link : https://docs.google.com/forms/d/1tbhFI7JkYJxe8bbO3fN_p8H5UTHRajab9fa2lioqtQM/edit?usp=sharing"
   ]
  },
  {
   "cell_type": "markdown",
   "metadata": {},
   "source": [
    "### Creating Sample Survey Response Dataset"
   ]
  },
  {
   "cell_type": "code",
   "execution_count": 98,
   "metadata": {},
   "outputs": [
    {
     "data": {
      "text/html": [
       "<div>\n",
       "<style scoped>\n",
       "    .dataframe tbody tr th:only-of-type {\n",
       "        vertical-align: middle;\n",
       "    }\n",
       "\n",
       "    .dataframe tbody tr th {\n",
       "        vertical-align: top;\n",
       "    }\n",
       "\n",
       "    .dataframe thead th {\n",
       "        text-align: right;\n",
       "    }\n",
       "</style>\n",
       "<table border=\"1\" class=\"dataframe\">\n",
       "  <thead>\n",
       "    <tr style=\"text-align: right;\">\n",
       "      <th></th>\n",
       "      <th>age</th>\n",
       "      <th>years_in_comapny</th>\n",
       "      <th>commute_duration</th>\n",
       "      <th>hours_in_office</th>\n",
       "      <th>days_in_office</th>\n",
       "      <th>num_coworkers_speak</th>\n",
       "      <th>social_interaction_level</th>\n",
       "      <th>private_room?</th>\n",
       "      <th>social_room?</th>\n",
       "      <th>cafe?</th>\n",
       "      <th>likely_return</th>\n",
       "      <th>happiness_score</th>\n",
       "      <th>productivity_level</th>\n",
       "    </tr>\n",
       "  </thead>\n",
       "  <tbody>\n",
       "    <tr>\n",
       "      <th>0</th>\n",
       "      <td>23</td>\n",
       "      <td>16</td>\n",
       "      <td>3</td>\n",
       "      <td>4</td>\n",
       "      <td>1</td>\n",
       "      <td>14</td>\n",
       "      <td>2</td>\n",
       "      <td>0</td>\n",
       "      <td>0</td>\n",
       "      <td>0</td>\n",
       "      <td>3</td>\n",
       "      <td>9</td>\n",
       "      <td>3</td>\n",
       "    </tr>\n",
       "    <tr>\n",
       "      <th>1</th>\n",
       "      <td>48</td>\n",
       "      <td>19</td>\n",
       "      <td>3</td>\n",
       "      <td>3</td>\n",
       "      <td>4</td>\n",
       "      <td>2</td>\n",
       "      <td>5</td>\n",
       "      <td>0</td>\n",
       "      <td>1</td>\n",
       "      <td>1</td>\n",
       "      <td>3</td>\n",
       "      <td>4</td>\n",
       "      <td>0</td>\n",
       "    </tr>\n",
       "    <tr>\n",
       "      <th>2</th>\n",
       "      <td>29</td>\n",
       "      <td>10</td>\n",
       "      <td>3</td>\n",
       "      <td>7</td>\n",
       "      <td>2</td>\n",
       "      <td>17</td>\n",
       "      <td>3</td>\n",
       "      <td>1</td>\n",
       "      <td>1</td>\n",
       "      <td>1</td>\n",
       "      <td>5</td>\n",
       "      <td>5</td>\n",
       "      <td>7</td>\n",
       "    </tr>\n",
       "    <tr>\n",
       "      <th>3</th>\n",
       "      <td>30</td>\n",
       "      <td>15</td>\n",
       "      <td>1</td>\n",
       "      <td>6</td>\n",
       "      <td>5</td>\n",
       "      <td>14</td>\n",
       "      <td>1</td>\n",
       "      <td>1</td>\n",
       "      <td>1</td>\n",
       "      <td>0</td>\n",
       "      <td>1</td>\n",
       "      <td>6</td>\n",
       "      <td>1</td>\n",
       "    </tr>\n",
       "    <tr>\n",
       "      <th>4</th>\n",
       "      <td>36</td>\n",
       "      <td>9</td>\n",
       "      <td>1</td>\n",
       "      <td>2</td>\n",
       "      <td>2</td>\n",
       "      <td>12</td>\n",
       "      <td>1</td>\n",
       "      <td>0</td>\n",
       "      <td>0</td>\n",
       "      <td>0</td>\n",
       "      <td>7</td>\n",
       "      <td>8</td>\n",
       "      <td>8</td>\n",
       "    </tr>\n",
       "    <tr>\n",
       "      <th>...</th>\n",
       "      <td>...</td>\n",
       "      <td>...</td>\n",
       "      <td>...</td>\n",
       "      <td>...</td>\n",
       "      <td>...</td>\n",
       "      <td>...</td>\n",
       "      <td>...</td>\n",
       "      <td>...</td>\n",
       "      <td>...</td>\n",
       "      <td>...</td>\n",
       "      <td>...</td>\n",
       "      <td>...</td>\n",
       "      <td>...</td>\n",
       "    </tr>\n",
       "    <tr>\n",
       "      <th>995</th>\n",
       "      <td>22</td>\n",
       "      <td>10</td>\n",
       "      <td>3</td>\n",
       "      <td>10</td>\n",
       "      <td>1</td>\n",
       "      <td>7</td>\n",
       "      <td>1</td>\n",
       "      <td>1</td>\n",
       "      <td>1</td>\n",
       "      <td>1</td>\n",
       "      <td>8</td>\n",
       "      <td>9</td>\n",
       "      <td>8</td>\n",
       "    </tr>\n",
       "    <tr>\n",
       "      <th>996</th>\n",
       "      <td>43</td>\n",
       "      <td>13</td>\n",
       "      <td>2</td>\n",
       "      <td>6</td>\n",
       "      <td>3</td>\n",
       "      <td>17</td>\n",
       "      <td>3</td>\n",
       "      <td>1</td>\n",
       "      <td>1</td>\n",
       "      <td>1</td>\n",
       "      <td>7</td>\n",
       "      <td>2</td>\n",
       "      <td>3</td>\n",
       "    </tr>\n",
       "    <tr>\n",
       "      <th>997</th>\n",
       "      <td>40</td>\n",
       "      <td>10</td>\n",
       "      <td>2</td>\n",
       "      <td>2</td>\n",
       "      <td>2</td>\n",
       "      <td>5</td>\n",
       "      <td>4</td>\n",
       "      <td>0</td>\n",
       "      <td>1</td>\n",
       "      <td>1</td>\n",
       "      <td>5</td>\n",
       "      <td>0</td>\n",
       "      <td>1</td>\n",
       "    </tr>\n",
       "    <tr>\n",
       "      <th>998</th>\n",
       "      <td>36</td>\n",
       "      <td>6</td>\n",
       "      <td>1</td>\n",
       "      <td>9</td>\n",
       "      <td>3</td>\n",
       "      <td>10</td>\n",
       "      <td>2</td>\n",
       "      <td>0</td>\n",
       "      <td>0</td>\n",
       "      <td>1</td>\n",
       "      <td>7</td>\n",
       "      <td>1</td>\n",
       "      <td>2</td>\n",
       "    </tr>\n",
       "    <tr>\n",
       "      <th>999</th>\n",
       "      <td>53</td>\n",
       "      <td>11</td>\n",
       "      <td>2</td>\n",
       "      <td>6</td>\n",
       "      <td>4</td>\n",
       "      <td>1</td>\n",
       "      <td>4</td>\n",
       "      <td>0</td>\n",
       "      <td>0</td>\n",
       "      <td>1</td>\n",
       "      <td>0</td>\n",
       "      <td>3</td>\n",
       "      <td>6</td>\n",
       "    </tr>\n",
       "  </tbody>\n",
       "</table>\n",
       "<p>1000 rows × 13 columns</p>\n",
       "</div>"
      ],
      "text/plain": [
       "     age  years_in_comapny  commute_duration  hours_in_office  days_in_office  \\\n",
       "0     23                16                 3                4               1   \n",
       "1     48                19                 3                3               4   \n",
       "2     29                10                 3                7               2   \n",
       "3     30                15                 1                6               5   \n",
       "4     36                 9                 1                2               2   \n",
       "..   ...               ...               ...              ...             ...   \n",
       "995   22                10                 3               10               1   \n",
       "996   43                13                 2                6               3   \n",
       "997   40                10                 2                2               2   \n",
       "998   36                 6                 1                9               3   \n",
       "999   53                11                 2                6               4   \n",
       "\n",
       "     num_coworkers_speak  social_interaction_level  private_room?  \\\n",
       "0                     14                         2              0   \n",
       "1                      2                         5              0   \n",
       "2                     17                         3              1   \n",
       "3                     14                         1              1   \n",
       "4                     12                         1              0   \n",
       "..                   ...                       ...            ...   \n",
       "995                    7                         1              1   \n",
       "996                   17                         3              1   \n",
       "997                    5                         4              0   \n",
       "998                   10                         2              0   \n",
       "999                    1                         4              0   \n",
       "\n",
       "     social_room?  cafe?  likely_return  happiness_score  productivity_level  \n",
       "0               0      0              3                9                   3  \n",
       "1               1      1              3                4                   0  \n",
       "2               1      1              5                5                   7  \n",
       "3               1      0              1                6                   1  \n",
       "4               0      0              7                8                   8  \n",
       "..            ...    ...            ...              ...                 ...  \n",
       "995             1      1              8                9                   8  \n",
       "996             1      1              7                2                   3  \n",
       "997             1      1              5                0                   1  \n",
       "998             0      1              7                1                   2  \n",
       "999             0      1              0                3                   6  \n",
       "\n",
       "[1000 rows x 13 columns]"
      ]
     },
     "execution_count": 98,
     "metadata": {},
     "output_type": "execute_result"
    }
   ],
   "source": [
    "num_samples = 1000\n",
    "\n",
    "survey_df = pd.DataFrame(columns = [\"age\", \"years_in_comapny\",\"commute_duration\", \"hours_in_office\", \"days_in_office\", \n",
    "                                    \"num_coworkers_speak\",\"social_interaction_level\", \n",
    "                                    \"private_room?\", \"social_room?\", \"cafe?\", \"likely_return\", \"happiness_score\", \"productivity_level\"])\n",
    "for sample in range(num_samples):\n",
    "    age = np.random.choice(range(21,56))\n",
    "    years_in_company = np.random.choice(range(1,25))\n",
    "    commute_duration = np.random.choice(range(1,4))\n",
    "    hours_in_office = np.random.choice(range(1,13))\n",
    "    days_in_office = np.random.choice(range(1,6))\n",
    "    num_coworkers_speak = np.random.choice(range(1,21))\n",
    "    social_interaction_level = np.random.choice(range(1,6))\n",
    "    private_room = np.random.choice(range(0,2))\n",
    "    social_room = np.random.choice(range(0,2))\n",
    "    cafe = np.random.choice(range(0,2))\n",
    "    likely_return = np.random.choice(range(0,10))\n",
    "    happiness_score = np.random.choice(range(0,10))\n",
    "    productivity_level = np.random.choice(range(0,10))\n",
    "    survey_df.loc[len(survey_df)] = [age, years_in_company,commute_duration,hours_in_office,days_in_office,\n",
    "                                  num_coworkers_speak, social_interaction_level,private_room,\n",
    "                                 social_room, cafe, likely_return, happiness_score, productivity_level]\n",
    "survey_df "
   ]
  },
  {
   "cell_type": "markdown",
   "metadata": {},
   "source": [
    "### Splitting Data "
   ]
  },
  {
   "cell_type": "code",
   "execution_count": 114,
   "metadata": {},
   "outputs": [],
   "source": [
    "def split_data(pred_col):\n",
    "    X_train, X_test, y_train, y_test = train_test_split(survey_df.drop(columns = [pred_col]), survey_df[pred_col], test_size=0.33)\n",
    "    return [X_train, X_test, y_train, y_test]\n",
    "\n",
    "lr_split = split_data(\"likely_return\")    \n",
    "hs_split = split_data(\"happiness_score\")\n",
    "pl_split = split_data(\"productivity_level\")\n",
    "    "
   ]
  },
  {
   "cell_type": "markdown",
   "metadata": {},
   "source": [
    "### Generating Model"
   ]
  },
  {
   "cell_type": "code",
   "execution_count": 106,
   "metadata": {},
   "outputs": [],
   "source": [
    "class OrdinalClassifier():\n",
    "    \n",
    "    def __init__(self, clf):\n",
    "        self.clf = clf\n",
    "        self.clfs = {}\n",
    "    \n",
    "    def fit(self, X, y):\n",
    "        self.unique_class = np.sort(np.unique(y))\n",
    "        if self.unique_class.shape[0] > 2:\n",
    "            for i in range(self.unique_class.shape[0]-1):\n",
    "                # for each k - 1 ordinal value we fit a binary classification problem\n",
    "                binary_y = (y > self.unique_class[i]).astype(np.uint8)\n",
    "                clf = clone(self.clf)\n",
    "                clf.fit(X, binary_y)\n",
    "                self.clfs[i] = clf\n",
    "    \n",
    "    def predict_proba(self, X):\n",
    "        clfs_predict = {k:self.clfs[k].predict_proba(X) for k in self.clfs}\n",
    "        predicted = []\n",
    "        for i,y in enumerate(self.unique_class):\n",
    "            if i == 0:\n",
    "                # V1 = 1 - Pr(y > V1)\n",
    "                predicted.append(1 - clfs_predict[y][:,1])\n",
    "            elif y in clfs_predict:\n",
    "                # Vi = Pr(y > Vi-1) - Pr(y > Vi)\n",
    "                 predicted.append(clfs_predict[y-1][:,1] - clfs_predict[y][:,1])\n",
    "            else:\n",
    "                # Vk = Pr(y > Vk-1)\n",
    "                predicted.append(clfs_predict[y-1][:,1])\n",
    "        return np.vstack(predicted).T\n",
    "    \n",
    "    def predict(self, X):\n",
    "        return np.argmax(self.predict_proba(X), axis=1)"
   ]
  },
  {
   "cell_type": "markdown",
   "metadata": {},
   "source": [
    "###  Model Hyperparameter Tuning"
   ]
  },
  {
   "cell_type": "code",
   "execution_count": 110,
   "metadata": {},
   "outputs": [],
   "source": [
    "def tune_model(depth_range, var_split, pred_col):\n",
    "    X_train, X_test, y_train, y_test = var_split\n",
    "    train_accs = []\n",
    "    test_accs = []\n",
    "    depths = depth_range\n",
    "    for depth in depths:  \n",
    "        clf = OrdinalClassifier(DecisionTreeClassifier(max_depth = depth))\n",
    "        clf.fit(X_train, y_train)\n",
    "        train_preds = clf.predict(X_train)\n",
    "        test_preds = clf.predict(X_test)\n",
    "        train_accs.append(accuracy_score(train_preds, y_train))\n",
    "        test_accs.append(accuracy_score(test_preds, y_test))\n",
    "    plt.figure(figsize = (10,8))\n",
    "    plt.plot(depths, train_accs, label = \"Training Accuracy\")\n",
    "    plt.plot(depths, test_accs, label = \"Testing Accuracy\")\n",
    "    plt.xlabel(\"Model Tree Depth\")\n",
    "    plt.ylabel(\"Model Accuracy\")\n",
    "    plt.title(\"Model Accuracy with Varying Depth for \" + pred_col);\n",
    "    best_train_depth = np.argmax(train_accs) + 1\n",
    "    best_test_depth = np.argmax(test_accs) + 1\n",
    "    print(\"Best Training Accuracy at depth =\", best_train_depth, \"for\", pred_col)\n",
    "    print(\"Best Testing Accuracy at depth =\", best_test_depth, \"for\", pred_col)\n",
    "    return best_train_depth, best_test_depth"
   ]
  },
  {
   "cell_type": "code",
   "execution_count": 115,
   "metadata": {},
   "outputs": [
    {
     "name": "stdout",
     "output_type": "stream",
     "text": [
      "Best Training Accuracy at depth = 17 for Likely Return\n",
      "Best Testing Accuracy at depth = 3 for Likely Return\n",
      "Best Training Accuracy at depth = 20 for Happiness Score\n",
      "Best Testing Accuracy at depth = 29 for Happiness Score\n",
      "Best Training Accuracy at depth = 20 for Productivity Level\n",
      "Best Testing Accuracy at depth = 20 for Productivity Level\n"
     ]
    },
    {
     "data": {
      "image/png": "[encoded data removed]",
      "text/plain": [
       "<Figure size 720x576 with 1 Axes>"
      ]
     },
     "metadata": {
      "needs_background": "light"
     },
     "output_type": "display_data"
    },
    {
     "data": {
      "image/png": "[encoded data removed]",
      "text/plain": [
       "<Figure size 720x576 with 1 Axes>"
      ]
     },
     "metadata": {
      "needs_background": "light"
     },
     "output_type": "display_data"
    },
    {
     "data": {
      "image/png": "[encoded data removed]",
      "text/plain": [
       "<Figure size 720x576 with 1 Axes>"
      ]
     },
     "metadata": {
      "needs_background": "light"
     },
     "output_type": "display_data"
    }
   ],
   "source": [
    "best_train_depth_lr, best_test_depth_lr = tune_model(range(1,101), lr_split, \"Likely Return\")\n",
    "best_train_depth_hs, best_test_depth_hs = tune_model(range(1,101), hs_split, \"Happiness Score\")\n",
    "best_train_depth_pl, best_test_depth_pl = tune_model(range(1,101), pl_split, \"Productivity Level\")"
   ]
  },
  {
   "cell_type": "markdown",
   "metadata": {},
   "source": [
    "### Output Final Model"
   ]
  },
  {
   "cell_type": "code",
   "execution_count": 119,
   "metadata": {},
   "outputs": [],
   "source": [
    "def train_model(best_depth, train_split):\n",
    "    X_train, y_trian = train_split\n",
    "    clf = OrdinalClassifier(DecisionTreeClassifier(max_depth = best_depth))\n",
    "    clf.fit(X_train, y_train)\n",
    "    return clf"
   ]
  },
  {
   "cell_type": "code",
   "execution_count": 127,
   "metadata": {},
   "outputs": [],
   "source": [
    "best_model_lr = train_model(best_test_depth_lr, lr_split[:2])\n",
    "best_model_hs = train_model(best_test_depth_hs, hs_split[:2])\n",
    "best_model_pl = train_model(best_test_depth_pl, pl_split[:2])"
   ]
  },
  {
   "cell_type": "markdown",
   "metadata": {},
   "source": [
    "### Predict Likelyhood for New User"
   ]
  },
  {
   "cell_type": "code",
   "execution_count": 132,
   "metadata": {},
   "outputs": [
    {
     "name": "stdout",
     "output_type": "stream",
     "text": [
      "This new user's predicted likelyhood of returning to the office on the same day next week is 3 on a scale of 1-10\n"
     ]
    }
   ],
   "source": [
    "age = 24\n",
    "years_in_company = 3\n",
    "commute_duration = 1\n",
    "hours_in_office = 6\n",
    "days_in_office = 5\n",
    "num_coworkers_speak = 6\n",
    "productivity_level = 4\n",
    "social_interaction_level = 5\n",
    "private_room = 4\n",
    "social_room = 1\n",
    "cafe = 1\n",
    "happiness_score = 9\n",
    "productivity_level = 3\n",
    "\n",
    "new_test_lr = [age, years_in_company,commute_duration,hours_in_office,days_in_office,\n",
    "                                  num_coworkers_speak, social_interaction_level,private_room,\n",
    "                                 social_room, cafe, happiness_score, productivity_level]\n",
    "new_prediction_lr = best_model_lr.predict(np.array(new_test_lr).reshape(1,-1))[0] + 1\n",
    "print(\"This new user's predicted likelyhood of returning to the office on the same day next week is\", new_prediction_lr, \"on a scale of 1-10\")\n"
   ]
  },
  {
   "cell_type": "markdown",
   "metadata": {},
   "source": [
    "### Predict Happiness Score for New User"
   ]
  },
  {
   "cell_type": "code",
   "execution_count": 133,
   "metadata": {},
   "outputs": [
    {
     "name": "stdout",
     "output_type": "stream",
     "text": [
      "This new user's predicted happiness score is 2 on a scale of 1-10\n"
     ]
    }
   ],
   "source": [
    "age = 24\n",
    "years_in_company = 3\n",
    "commute_duration = 3\n",
    "hours_in_office = 6\n",
    "days_in_office = 5\n",
    "num_coworkers_speak = 7\n",
    "productivity_level = 4\n",
    "social_interaction_level = 5\n",
    "private_room = 0\n",
    "social_room = 1\n",
    "cafe = 1\n",
    "likely_return = 7\n",
    "productivity_level = 3\n",
    "\n",
    "new_test_hs = [age, years_in_company,commute_duration,hours_in_office,days_in_office,\n",
    "                                  num_coworkers_speak, social_interaction_level,private_room,\n",
    "                                 social_room, cafe, likely_return, productivity_level]\n",
    "new_prediction_hs = best_model_hs.predict(np.array(new_test_hs).reshape(1,-1))[0] + 1\n",
    "print(\"This new user's predicted happiness score is\", new_prediction_hs, \"on a scale of 1-10\")\n"
   ]
  },
  {
   "cell_type": "markdown",
   "metadata": {},
   "source": [
    "### Predict Happiness Score for New User"
   ]
  },
  {
   "cell_type": "code",
   "execution_count": 130,
   "metadata": {},
   "outputs": [
    {
     "name": "stdout",
     "output_type": "stream",
     "text": [
      "This new user's predicted productivity level is 5 on a scale of 1-10\n"
     ]
    }
   ],
   "source": [
    "age = 24\n",
    "years_in_company = 3\n",
    "commute_duration = 1\n",
    "hours_in_office = 6\n",
    "days_in_office = 5\n",
    "num_coworkers_speak = 6\n",
    "productivity_level = 4\n",
    "social_interaction_level = 5\n",
    "private_room = 0\n",
    "social_room = 1\n",
    "cafe = 1\n",
    "likely_return = 7\n",
    "happiness_score = 4\n",
    "\n",
    "new_test_pl = [age, years_in_company,commute_duration,hours_in_office,days_in_office,\n",
    "                                  num_coworkers_speak, social_interaction_level,private_room,\n",
    "                                 social_room, cafe, likely_return, happiness_score]\n",
    "new_prediction_pl = best_model_pl.predict(np.array(new_test_pl).reshape(1,-1))[0] + 1\n",
    "print(\"This new user's predicted productivity level is\", new_prediction_pl, \"on a scale of 1-10\")\n"
   ]
  }
 ],
 "metadata": {
  "kernelspec": {
   "display_name": "Python 3",
   "language": "python",
   "name": "python3"
  },
  "language_info": {
   "codemirror_mode": {
    "name": "ipython",
    "version": 3
   },
   "file_extension": ".py",
   "mimetype": "text/x-python",
   "name": "python",
   "nbconvert_exporter": "python",
   "pygments_lexer": "ipython3",
   "version": "3.8.3"
  }
 },
 "nbformat": 4,
 "nbformat_minor": 4
}
